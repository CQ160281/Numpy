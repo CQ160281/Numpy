{
 "cells": [
  {
   "cell_type": "code",
   "execution_count": 1,
   "id": "6c7263ca",
   "metadata": {},
   "outputs": [],
   "source": [
    "# Import thư viện numpy\n",
    "import numpy as np"
   ]
  },
  {
   "cell_type": "markdown",
   "id": "093220cd",
   "metadata": {},
   "source": [
    "## Tạo Numpy Arrays từ Python Lists"
   ]
  },
  {
   "cell_type": "code",
   "execution_count": 2,
   "id": "72897de8",
   "metadata": {},
   "outputs": [
    {
     "data": {
      "text/plain": [
       "array([1, 2, 3, 4])"
      ]
     },
     "execution_count": 2,
     "metadata": {},
     "output_type": "execute_result"
    }
   ],
   "source": [
    "# Chuyển đổi từ pythonlist sang numpy array\n",
    "np.array([1, 2, 3, 4, 5])"
   ]
  },
  {
   "cell_type": "code",
   "execution_count": 3,
   "id": "b2c99396",
   "metadata": {},
   "outputs": [
    {
     "data": {
      "text/plain": [
       "[1, 3.4, 5.3, 2]"
      ]
     },
     "execution_count": 3,
     "metadata": {},
     "output_type": "execute_result"
    }
   ],
   "source": [
    "# python list có thể chứa mảng khác kiểu dữ liệu\n",
    "[1, 3.4, 5.3, 2]"
   ]
  },
  {
   "cell_type": "code",
   "execution_count": 4,
   "id": "2f5a8319",
   "metadata": {},
   "outputs": [
    {
     "data": {
      "text/plain": [
       "array([1. , 3.4, 5.3, 2. ])"
      ]
     },
     "execution_count": 4,
     "metadata": {},
     "output_type": "execute_result"
    }
   ],
   "source": [
    "# numpy chuyển đổi các item thành số thực\n",
    "np.array([1, 3.4, 5.3, 2])"
   ]
  },
  {
   "cell_type": "code",
   "execution_count": 5,
   "id": "ea30f256",
   "metadata": {},
   "outputs": [
    {
     "data": {
      "text/plain": [
       "array([1., 2., 3., 4., 5.], dtype=float32)"
      ]
     },
     "execution_count": 5,
     "metadata": {},
     "output_type": "execute_result"
    }
   ],
   "source": [
    "# Có thể chuyển đổi ví dụ số nguyên thành số thực 32bit\n",
    "np.array([1, 2, 3, 4, 5], dtype='float32')"
   ]
  },
  {
   "cell_type": "code",
   "execution_count": 6,
   "id": "a3c9304e",
   "metadata": {},
   "outputs": [
    {
     "data": {
      "text/plain": [
       "numpy.ndarray"
      ]
     },
     "execution_count": 6,
     "metadata": {},
     "output_type": "execute_result"
    }
   ],
   "source": [
    "# Gán np.array cho một biến\n",
    "c = np.array([1, 2, 3, 4, 5])\n",
    "type(c)"
   ]
  },
  {
   "cell_type": "code",
   "execution_count": 9,
   "id": "1a990d1c",
   "metadata": {},
   "outputs": [
    {
     "data": {
      "text/plain": [
       "numpy.ndarray"
      ]
     },
     "execution_count": 9,
     "metadata": {},
     "output_type": "execute_result"
    }
   ],
   "source": [
    "c1 = np.array([[1, 2, 3],\n",
    "                [6, 8, 9]])\n",
    "type(c1)"
   ]
  },
  {
   "cell_type": "code",
   "execution_count": 10,
   "id": "21f1d16c",
   "metadata": {},
   "outputs": [
    {
     "data": {
      "text/plain": [
       "(2, 3)"
      ]
     },
     "execution_count": 10,
     "metadata": {},
     "output_type": "execute_result"
    }
   ],
   "source": [
    "# Hàm shape hiển thị số dòng cột\n",
    "c1.shape"
   ]
  },
  {
   "cell_type": "markdown",
   "id": "9ac8299e",
   "metadata": {},
   "source": [
    "__Có 2 hàng và 3 cột__"
   ]
  },
  {
   "cell_type": "code",
   "execution_count": 11,
   "id": "71b2d304",
   "metadata": {},
   "outputs": [
    {
     "data": {
      "text/plain": [
       "2"
      ]
     },
     "execution_count": 11,
     "metadata": {},
     "output_type": "execute_result"
    }
   ],
   "source": [
    "# Hàm ndim kiểm tra chiều của mảng\n",
    "c1.ndim # mảng 2 chiều"
   ]
  },
  {
   "cell_type": "code",
   "execution_count": 12,
   "id": "ab426476",
   "metadata": {},
   "outputs": [
    {
     "data": {
      "text/plain": [
       "dtype('int32')"
      ]
     },
     "execution_count": 12,
     "metadata": {},
     "output_type": "execute_result"
    }
   ],
   "source": [
    "# Kiểu dữ liệu bên trong mảng c1\n",
    "c1.dtype"
   ]
  },
  {
   "cell_type": "code",
   "execution_count": 13,
   "id": "ebe1a7d4",
   "metadata": {},
   "outputs": [
    {
     "data": {
      "text/plain": [
       "6"
      ]
     },
     "execution_count": 13,
     "metadata": {},
     "output_type": "execute_result"
    }
   ],
   "source": [
    "# Tổng elements thành phần trong mảng\n",
    "c1.size"
   ]
  },
  {
   "cell_type": "markdown",
   "id": "c404b38c",
   "metadata": {},
   "source": [
    "__Không giống như danh sách Python, mảng NumPy rõ ràng có thể đa chiều__"
   ]
  },
  {
   "cell_type": "markdown",
   "id": "d5a25fe7",
   "metadata": {},
   "source": [
    "## Tạo Numpy Arrays từ Built-in Function: Hàm có sẵn"
   ]
  },
  {
   "cell_type": "markdown",
   "id": "f8f19a90",
   "metadata": {},
   "source": [
    "__zeros, ones, arange, full, linspace__"
   ]
  },
  {
   "cell_type": "code",
   "execution_count": 17,
   "id": "cf62aea3",
   "metadata": {},
   "outputs": [
    {
     "data": {
      "text/plain": [
       "dtype('float64')"
      ]
     },
     "execution_count": 17,
     "metadata": {},
     "output_type": "execute_result"
    }
   ],
   "source": [
    "# Hàm zeros dùng để tạo mảng toàn số 0\n",
    "# Ví dụ mảng 2 hàng, 4 cột\n",
    "# Kiểu dữ liệu float mặc định\n",
    "np.zeros([2, 4]).dtype"
   ]
  },
  {
   "cell_type": "code",
   "execution_count": 18,
   "id": "51ce2182",
   "metadata": {},
   "outputs": [
    {
     "data": {
      "text/plain": [
       "array([[0, 0, 0, 0],\n",
       "       [0, 0, 0, 0]])"
      ]
     },
     "execution_count": 18,
     "metadata": {},
     "output_type": "execute_result"
    }
   ],
   "source": [
    "# Thay đổi kiều dữ liệu\n",
    "np.zeros([2, 4], dtype = int)"
   ]
  },
  {
   "cell_type": "code",
   "execution_count": 19,
   "id": "6d5ec220",
   "metadata": {},
   "outputs": [
    {
     "data": {
      "text/plain": [
       "array([[1., 1., 1., 1., 1.],\n",
       "       [1., 1., 1., 1., 1.],\n",
       "       [1., 1., 1., 1., 1.]])"
      ]
     },
     "execution_count": 19,
     "metadata": {},
     "output_type": "execute_result"
    }
   ],
   "source": [
    "# Hàm ones dùng để tạo hàm số 1, kiểu dữ liệu được tùy chỉnh\n",
    "np.ones([3,5], dtype=float)"
   ]
  },
  {
   "cell_type": "code",
   "execution_count": 20,
   "id": "e93ae05b",
   "metadata": {},
   "outputs": [
    {
     "data": {
      "text/plain": [
       "array([ 0,  2,  4,  6,  8, 10, 12, 14, 16, 18])"
      ]
     },
     "execution_count": 20,
     "metadata": {},
     "output_type": "execute_result"
    }
   ],
   "source": [
    "# Hàm arange\n",
    "# Tạo 1 mảng với start = 0, stop = 20 và step = 2 \n",
    "np.arange(0, 20, 2)"
   ]
  },
  {
   "cell_type": "code",
   "execution_count": 22,
   "id": "934194a1",
   "metadata": {},
   "outputs": [
    {
     "data": {
      "text/plain": [
       "array([[16.2, 16.2, 16.2, 16.2, 16.2],\n",
       "       [16.2, 16.2, 16.2, 16.2, 16.2],\n",
       "       [16.2, 16.2, 16.2, 16.2, 16.2]])"
      ]
     },
     "execution_count": 22,
     "metadata": {},
     "output_type": "execute_result"
    }
   ],
   "source": [
    "# Hàm full\n",
    "np.full((3, 5), 16.2)"
   ]
  },
  {
   "cell_type": "code",
   "execution_count": 25,
   "id": "8756452c",
   "metadata": {},
   "outputs": [
    {
     "data": {
      "text/plain": [
       "array([10. , 12.5, 15. , 17.5, 20. ])"
      ]
     },
     "execution_count": 25,
     "metadata": {},
     "output_type": "execute_result"
    }
   ],
   "source": [
    "# Hàm linspace\n",
    "# Một mảng năm giá trị cách đều nhau từ 0 đến 1\n",
    "np.linspace(10, 20, 5)"
   ]
  },
  {
   "cell_type": "code",
   "execution_count": null,
   "id": "8bc39326",
   "metadata": {},
   "outputs": [],
   "source": [
    "np.linspace()"
   ]
  },
  {
   "cell_type": "markdown",
   "id": "b10b66fc",
   "metadata": {},
   "source": [
    "## random"
   ]
  },
  {
   "cell_type": "code",
   "execution_count": 26,
   "id": "a6e4b6ca",
   "metadata": {},
   "outputs": [
    {
     "data": {
      "text/plain": [
       "array([[0.39167989, 0.49298903, 0.35218427, 0.76528629],\n",
       "       [0.94201464, 0.98637707, 0.59876075, 0.75369665],\n",
       "       [0.01693656, 0.9457357 , 0.72396703, 0.78977217],\n",
       "       [0.56072983, 0.93120254, 0.04259156, 0.62468175]])"
      ]
     },
     "execution_count": 26,
     "metadata": {},
     "output_type": "execute_result"
    }
   ],
   "source": [
    "# Hàm random chỉ nhaanjn input là size\n",
    "np.random.random((4, 4))"
   ]
  },
  {
   "cell_type": "code",
   "execution_count": 32,
   "id": "08d88bd6",
   "metadata": {},
   "outputs": [
    {
     "data": {
      "text/plain": [
       "array([[0.5488135 , 0.71518937, 0.60276338, 0.54488318],\n",
       "       [0.4236548 , 0.64589411, 0.43758721, 0.891773  ],\n",
       "       [0.96366276, 0.38344152, 0.79172504, 0.52889492],\n",
       "       [0.56804456, 0.92559664, 0.07103606, 0.0871293 ]])"
      ]
     },
     "execution_count": 32,
     "metadata": {},
     "output_type": "execute_result"
    }
   ],
   "source": [
    "# Hàm seed() hức được sử dụng để khởi tạo trình tạo số ngẫu nhiên.\n",
    "# Trình tạo số ngẫu nhiên cần một số bắt đầu bằng (giá trị gốc) để có thể tạo một số ngẫu nhiên.\n",
    "np.random.seed(0)\n",
    "np.random.random((4, 4))"
   ]
  },
  {
   "cell_type": "code",
   "execution_count": 33,
   "id": "d5bd4a67",
   "metadata": {},
   "outputs": [
    {
     "data": {
      "text/plain": [
       "array([[ 0.44386323,  0.33367433,  1.49407907],\n",
       "       [-0.20515826,  0.3130677 , -0.85409574],\n",
       "       [-2.55298982,  0.6536186 ,  0.8644362 ]])"
      ]
     },
     "execution_count": 33,
     "metadata": {},
     "output_type": "execute_result"
    }
   ],
   "source": [
    "# normal\n",
    "# Vẽ các mẫu ngẫu nhiên từ phân phối chuẩn (Gaussian).\n",
    "# theo thứ tự mean: giá trị trung bình, std - Standard Deviation: độ lệch chuẩn\n",
    "# size ma trận 3x3\n",
    "np.random.normal(0, 1, (3, 3))"
   ]
  },
  {
   "cell_type": "code",
   "execution_count": 34,
   "id": "2aa44221",
   "metadata": {},
   "outputs": [
    {
     "data": {
      "text/plain": [
       "array([[7, 2, 0, 0, 4],\n",
       "       [5, 5, 6, 8, 4],\n",
       "       [1, 4, 9, 8, 1],\n",
       "       [1, 7, 9, 9, 3]])"
      ]
     },
     "execution_count": 34,
     "metadata": {},
     "output_type": "execute_result"
    }
   ],
   "source": [
    "# randint() random những số int\n",
    "np.random.randint(0, 10, (4, 5)) "
   ]
  },
  {
   "cell_type": "code",
   "execution_count": 35,
   "id": "3108613e",
   "metadata": {},
   "outputs": [
    {
     "data": {
      "text/plain": [
       "array([[-0.74216502, -1.02617878,  0.47752547,  1.29269823],\n",
       "       [-0.73145824, -1.60540226,  0.98947618,  0.11081461],\n",
       "       [-0.38093141,  0.11495917,  0.34531264, -1.73495876],\n",
       "       [ 1.65835111,  2.29977152, -0.47113526,  1.26271548]])"
      ]
     },
     "execution_count": 35,
     "metadata": {},
     "output_type": "execute_result"
    }
   ],
   "source": [
    "# Hàm rand\n",
    "np.random.randn(4, 4)"
   ]
  },
  {
   "cell_type": "markdown",
   "id": "603b4898",
   "metadata": {},
   "source": [
    "## Array Indexing & Slicing"
   ]
  },
  {
   "cell_type": "markdown",
   "id": "ce0e9168",
   "metadata": {},
   "source": [
    "__Mảng con một chiều__"
   ]
  },
  {
   "cell_type": "code",
   "execution_count": 36,
   "id": "08174bdd",
   "metadata": {},
   "outputs": [],
   "source": [
    "x1 = np.random.randint(20, size = 6) # Mảng một chiều"
   ]
  },
  {
   "cell_type": "code",
   "execution_count": 37,
   "id": "276bffde",
   "metadata": {},
   "outputs": [
    {
     "data": {
      "text/plain": [
       "array([16, 17,  5,  9,  3,  0])"
      ]
     },
     "execution_count": 37,
     "metadata": {},
     "output_type": "execute_result"
    }
   ],
   "source": [
    "x1"
   ]
  },
  {
   "cell_type": "code",
   "execution_count": 41,
   "id": "fd26234a",
   "metadata": {},
   "outputs": [
    {
     "data": {
      "text/plain": [
       "(3, 16, 0)"
      ]
     },
     "execution_count": 41,
     "metadata": {},
     "output_type": "execute_result"
    }
   ],
   "source": [
    "x1[4], x1[0], x1[-1]"
   ]
  },
  {
   "cell_type": "markdown",
   "id": "dca13956",
   "metadata": {},
   "source": [
    "__Mảng đa chiều__"
   ]
  },
  {
   "cell_type": "code",
   "execution_count": 43,
   "id": "20b366cf",
   "metadata": {},
   "outputs": [],
   "source": [
    "# Ma trận là đoạn từ 0 đến 10\n",
    "x2 = np.random.randint(10, size=(3, 4)) # Mảng hai chiều "
   ]
  },
  {
   "cell_type": "code",
   "execution_count": 44,
   "id": "0741c260",
   "metadata": {},
   "outputs": [
    {
     "data": {
      "text/plain": [
       "array([[5, 0, 1, 2],\n",
       "       [4, 2, 0, 3],\n",
       "       [2, 0, 7, 5]])"
      ]
     },
     "execution_count": 44,
     "metadata": {},
     "output_type": "execute_result"
    }
   ],
   "source": [
    "x2"
   ]
  },
  {
   "cell_type": "code",
   "execution_count": 45,
   "id": "87342b1c",
   "metadata": {},
   "outputs": [
    {
     "data": {
      "text/plain": [
       "0"
      ]
     },
     "execution_count": 45,
     "metadata": {},
     "output_type": "execute_result"
    }
   ],
   "source": [
    "# index đầu tiên = hàng, index thứ 2 = cột\n",
    "x2[1, 2]"
   ]
  },
  {
   "cell_type": "code",
   "execution_count": 46,
   "id": "d6317cc9",
   "metadata": {},
   "outputs": [],
   "source": [
    "# Thay đổi số trong ma trận bằng cách gán\n",
    "x2[1, 2] = 66"
   ]
  },
  {
   "cell_type": "code",
   "execution_count": 47,
   "id": "f8855d0f",
   "metadata": {},
   "outputs": [
    {
     "data": {
      "text/plain": [
       "array([[ 5,  0,  1,  2],\n",
       "       [ 4,  2, 66,  3],\n",
       "       [ 2,  0,  7,  5]])"
      ]
     },
     "execution_count": 47,
     "metadata": {},
     "output_type": "execute_result"
    }
   ],
   "source": [
    "x2"
   ]
  },
  {
   "cell_type": "markdown",
   "id": "790d9075",
   "metadata": {},
   "source": [
    "__Slicing__"
   ]
  },
  {
   "cell_type": "markdown",
   "id": "afb778da",
   "metadata": {},
   "source": [
    "`x[start:stop:step]`"
   ]
  },
  {
   "cell_type": "code",
   "execution_count": 48,
   "id": "8de229c8",
   "metadata": {},
   "outputs": [
    {
     "data": {
      "text/plain": [
       "array([16, 17,  5,  9,  3,  0])"
      ]
     },
     "execution_count": 48,
     "metadata": {},
     "output_type": "execute_result"
    }
   ],
   "source": [
    "x1"
   ]
  },
  {
   "cell_type": "code",
   "execution_count": 49,
   "id": "a3ed0faf",
   "metadata": {},
   "outputs": [
    {
     "data": {
      "text/plain": [
       "array([16, 17,  5])"
      ]
     },
     "execution_count": 49,
     "metadata": {},
     "output_type": "execute_result"
    }
   ],
   "source": [
    "# Lấy 3 giá trị đầu tiên\n",
    "x1[0:3]"
   ]
  },
  {
   "cell_type": "code",
   "execution_count": 50,
   "id": "fff8abcc",
   "metadata": {},
   "outputs": [
    {
     "data": {
      "text/plain": [
       "array([5, 9])"
      ]
     },
     "execution_count": 50,
     "metadata": {},
     "output_type": "execute_result"
    }
   ],
   "source": [
    "# Lấy ở vị trí thứ 2 và dừng ở vị trí thứ 4\n",
    "x1[2:4]"
   ]
  },
  {
   "cell_type": "code",
   "execution_count": 51,
   "id": "86a887e1",
   "metadata": {},
   "outputs": [
    {
     "data": {
      "text/plain": [
       "array([16,  5,  3])"
      ]
     },
     "execution_count": 51,
     "metadata": {},
     "output_type": "execute_result"
    }
   ],
   "source": [
    "# mỗi step cách nhau 2\n",
    "x1[::2]"
   ]
  },
  {
   "cell_type": "code",
   "execution_count": 52,
   "id": "2e2b1716",
   "metadata": {},
   "outputs": [
    {
     "data": {
      "text/plain": [
       "array([[ 5,  0,  1,  2],\n",
       "       [ 4,  2, 66,  3],\n",
       "       [ 2,  0,  7,  5]])"
      ]
     },
     "execution_count": 52,
     "metadata": {},
     "output_type": "execute_result"
    }
   ],
   "source": [
    "x2"
   ]
  },
  {
   "cell_type": "code",
   "execution_count": 54,
   "id": "f9baf26e",
   "metadata": {},
   "outputs": [
    {
     "data": {
      "text/plain": [
       "array([[ 5,  0,  1],\n",
       "       [ 4,  2, 66]])"
      ]
     },
     "execution_count": 54,
     "metadata": {},
     "output_type": "execute_result"
    }
   ],
   "source": [
    "# Láy 2 hàng đầu và 3 cột đầu\n",
    "x2[:2, :3]"
   ]
  },
  {
   "cell_type": "code",
   "execution_count": 57,
   "id": "6a1c92f3",
   "metadata": {},
   "outputs": [
    {
     "data": {
      "text/plain": [
       "array([[5, 0],\n",
       "       [4, 2],\n",
       "       [2, 0]])"
      ]
     },
     "execution_count": 57,
     "metadata": {},
     "output_type": "execute_result"
    }
   ],
   "source": [
    "# Lấy 2 dòng đầu tiên\n",
    "x2[:, :2]"
   ]
  },
  {
   "cell_type": "markdown",
   "id": "ab38876d",
   "metadata": {},
   "source": [
    "## Reshape và Transpose"
   ]
  },
  {
   "cell_type": "code",
   "execution_count": 58,
   "id": "66417bb1",
   "metadata": {},
   "outputs": [
    {
     "data": {
      "text/plain": [
       "array([1, 2, 3, 4, 5, 6, 7, 8, 9])"
      ]
     },
     "execution_count": 58,
     "metadata": {},
     "output_type": "execute_result"
    }
   ],
   "source": [
    "# Tạo 1 mảng trong đoạn từ 1 đến 10\n",
    "np.arange(1, 10)"
   ]
  },
  {
   "cell_type": "code",
   "execution_count": 59,
   "id": "0b188dfb",
   "metadata": {},
   "outputs": [
    {
     "data": {
      "text/plain": [
       "(9,)"
      ]
     },
     "execution_count": 59,
     "metadata": {},
     "output_type": "execute_result"
    }
   ],
   "source": [
    "# gán biến grown cho mảng vừa tạo\n",
    "grown = np.arange(1, 10)\n",
    "\n",
    "# Một numpy array có 9 hàng\n",
    "grown.shape"
   ]
  },
  {
   "cell_type": "code",
   "execution_count": 61,
   "id": "090bd0eb",
   "metadata": {},
   "outputs": [
    {
     "data": {
      "text/plain": [
       "array([[1, 2, 3],\n",
       "       [4, 5, 6],\n",
       "       [7, 8, 9]])"
      ]
     },
     "execution_count": 61,
     "metadata": {},
     "output_type": "execute_result"
    }
   ],
   "source": [
    "# Hàm reshape() tạo ma trận 3x3\n",
    "grown.reshape(3, 3)"
   ]
  },
  {
   "cell_type": "code",
   "execution_count": 62,
   "id": "527d6ea1",
   "metadata": {},
   "outputs": [
    {
     "data": {
      "text/plain": [
       "(3,)"
      ]
     },
     "execution_count": 62,
     "metadata": {},
     "output_type": "execute_result"
    }
   ],
   "source": [
    "x = np.array([1, 2, 3])\n",
    "x.shape"
   ]
  },
  {
   "cell_type": "code",
   "execution_count": 63,
   "id": "7fdb9831",
   "metadata": {},
   "outputs": [
    {
     "data": {
      "text/plain": [
       "(1, 3)"
      ]
     },
     "execution_count": 63,
     "metadata": {},
     "output_type": "execute_result"
    }
   ],
   "source": [
    "# Có 1 row và 3 columns\n",
    "x.reshape(1, 3).shape"
   ]
  },
  {
   "cell_type": "code",
   "execution_count": 65,
   "id": "35c3f574",
   "metadata": {},
   "outputs": [
    {
     "data": {
      "text/plain": [
       "array([[1, 2],\n",
       "       [3, 4]])"
      ]
     },
     "execution_count": 65,
     "metadata": {},
     "output_type": "execute_result"
    }
   ],
   "source": [
    "# Transpose sẽ chuyển đổi cột thành hàng và hàng thành cột\n",
    "x = np.array([[1, 2], [3, 4]])\n",
    "x"
   ]
  },
  {
   "cell_type": "code",
   "execution_count": 66,
   "id": "1c56b272",
   "metadata": {},
   "outputs": [
    {
     "data": {
      "text/plain": [
       "array([[1, 3],\n",
       "       [2, 4]])"
      ]
     },
     "execution_count": 66,
     "metadata": {},
     "output_type": "execute_result"
    }
   ],
   "source": [
    "# Chuyển đổi hàng thành cột\n",
    "x.T"
   ]
  },
  {
   "cell_type": "markdown",
   "id": "ebc705cf",
   "metadata": {},
   "source": [
    "## Concatenation và Splitting"
   ]
  },
  {
   "cell_type": "markdown",
   "id": "d7466a93",
   "metadata": {},
   "source": [
    "`Concatenation: nối các numpy array lại với nhau`\n",
    "\n",
    "`Splitting: Tách những numpy array ra thành các array nhỏ hơn`"
   ]
  },
  {
   "cell_type": "code",
   "execution_count": 68,
   "id": "5e85b92f",
   "metadata": {},
   "outputs": [],
   "source": [
    "# Mảng 1 chiều \n",
    "x = np.array([1, 2, 3])\n",
    "y = np.array([3, 2, 1])"
   ]
  },
  {
   "cell_type": "code",
   "execution_count": 72,
   "id": "623588df",
   "metadata": {},
   "outputs": [
    {
     "data": {
      "text/plain": [
       "array([1, 2, 3, 3, 2, 1])"
      ]
     },
     "execution_count": 72,
     "metadata": {},
     "output_type": "execute_result"
    }
   ],
   "source": [
    "# Nối 2 array lại với nhau\n",
    "np.concatenate((x, y))"
   ]
  },
  {
   "cell_type": "code",
   "execution_count": 74,
   "id": "b48a36a7",
   "metadata": {},
   "outputs": [
    {
     "data": {
      "text/plain": [
       "array([[1, 2, 3],\n",
       "       [4, 5, 6]])"
      ]
     },
     "execution_count": 74,
     "metadata": {},
     "output_type": "execute_result"
    }
   ],
   "source": [
    "# Mảng 2 chiều\n",
    "grid = np.array([[1, 2, 3],\n",
    "               [4, 5, 6]])\n",
    "grid"
   ]
  },
  {
   "cell_type": "code",
   "execution_count": 75,
   "id": "d04c1873",
   "metadata": {},
   "outputs": [
    {
     "data": {
      "text/plain": [
       "array([[1, 2, 3],\n",
       "       [4, 5, 6],\n",
       "       [1, 2, 3],\n",
       "       [4, 5, 6]])"
      ]
     },
     "execution_count": 75,
     "metadata": {},
     "output_type": "execute_result"
    }
   ],
   "source": [
    "# Nối theo hàng\n",
    "np.concatenate([grid, grid]) #axis = 0 mặc định nối theo chiều ngang"
   ]
  },
  {
   "cell_type": "code",
   "execution_count": 76,
   "id": "51e5998c",
   "metadata": {},
   "outputs": [
    {
     "data": {
      "text/plain": [
       "array([[1, 2, 3, 1, 2, 3],\n",
       "       [4, 5, 6, 4, 5, 6]])"
      ]
     },
     "execution_count": 76,
     "metadata": {},
     "output_type": "execute_result"
    }
   ],
   "source": [
    "# Nối theo cột\n",
    "np.concatenate([grid, grid], axis = 1)"
   ]
  },
  {
   "cell_type": "code",
   "execution_count": 77,
   "id": "050e8d78",
   "metadata": {},
   "outputs": [
    {
     "data": {
      "text/plain": [
       "array([[1, 2, 3],\n",
       "       [9, 8, 7],\n",
       "       [6, 5, 4]])"
      ]
     },
     "execution_count": 77,
     "metadata": {},
     "output_type": "execute_result"
    }
   ],
   "source": [
    "#vstack\n",
    "x = np.array([1, 2, 3])\n",
    "grid = np.array([[9, 8, 7],\n",
    "                 [6, 5, 4]])\n",
    "# Nối theo cột\n",
    "np.vstack((x, grid))"
   ]
  },
  {
   "cell_type": "code",
   "execution_count": 78,
   "id": "9dec6b4b",
   "metadata": {},
   "outputs": [
    {
     "data": {
      "text/plain": [
       "array([[ 9,  8,  7, 99],\n",
       "       [ 6,  5,  4, 99]])"
      ]
     },
     "execution_count": 78,
     "metadata": {},
     "output_type": "execute_result"
    }
   ],
   "source": [
    "# horizontally stack - Nối theo chiều ngang\n",
    "y = np.array([[99],\n",
    "              [99]])\n",
    "np.hstack([grid, y])"
   ]
  },
  {
   "cell_type": "markdown",
   "id": "aa90c9e3",
   "metadata": {},
   "source": [
    "__Splitting__"
   ]
  },
  {
   "cell_type": "code",
   "execution_count": 79,
   "id": "b2d1bb55",
   "metadata": {},
   "outputs": [],
   "source": [
    "x = [1, 2, 3, 99, 69, 3, 2, 1]"
   ]
  },
  {
   "cell_type": "code",
   "execution_count": 80,
   "id": "e18360c3",
   "metadata": {},
   "outputs": [
    {
     "name": "stdout",
     "output_type": "stream",
     "text": [
      "[1 2 3] [99 99] [3 2 1]\n"
     ]
    }
   ],
   "source": [
    "# Tách ra 3 array khác nhau\n",
    "x1, x2, x3 = np.split(x, [3, 5])\n",
    "print(x1, x2, x3)"
   ]
  },
  {
   "cell_type": "code",
   "execution_count": null,
   "id": "1801f513",
   "metadata": {},
   "outputs": [],
   "source": []
  }
 ],
 "metadata": {
  "kernelspec": {
   "display_name": "Python 3",
   "language": "python",
   "name": "python3"
  },
  "language_info": {
   "codemirror_mode": {
    "name": "ipython",
    "version": 3
   },
   "file_extension": ".py",
   "mimetype": "text/x-python",
   "name": "python",
   "nbconvert_exporter": "python",
   "pygments_lexer": "ipython3",
   "version": "3.8.8"
  },
  "toc": {
   "base_numbering": 1,
   "nav_menu": {},
   "number_sections": false,
   "sideBar": true,
   "skip_h1_title": false,
   "title_cell": "Table of Contents",
   "title_sidebar": "Contents",
   "toc_cell": false,
   "toc_position": {},
   "toc_section_display": true,
   "toc_window_display": true
  },
  "varInspector": {
   "cols": {
    "lenName": 16,
    "lenType": 16,
    "lenVar": 40
   },
   "kernels_config": {
    "python": {
     "delete_cmd_postfix": "",
     "delete_cmd_prefix": "del ",
     "library": "var_list.py",
     "varRefreshCmd": "print(var_dic_list())"
    },
    "r": {
     "delete_cmd_postfix": ") ",
     "delete_cmd_prefix": "rm(",
     "library": "var_list.r",
     "varRefreshCmd": "cat(var_dic_list()) "
    }
   },
   "types_to_exclude": [
    "module",
    "function",
    "builtin_function_or_method",
    "instance",
    "_Feature"
   ],
   "window_display": false
  }
 },
 "nbformat": 4,
 "nbformat_minor": 5
}
